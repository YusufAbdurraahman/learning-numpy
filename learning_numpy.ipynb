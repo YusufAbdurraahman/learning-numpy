{
  "nbformat": 4,
  "nbformat_minor": 0,
  "metadata": {
    "colab": {
      "provenance": [],
      "authorship_tag": "ABX9TyOEz7lAfC8EyLujAhowJba3",
      "include_colab_link": true
    },
    "kernelspec": {
      "name": "python3",
      "display_name": "Python 3"
    },
    "language_info": {
      "name": "python"
    }
  },
  "cells": [
    {
      "cell_type": "markdown",
      "metadata": {
        "id": "view-in-github",
        "colab_type": "text"
      },
      "source": [
        "<a href=\"https://colab.research.google.com/github/YusufAbdurraahman/learning-numpy/blob/main/learning_numpy.ipynb\" target=\"_parent\"><img src=\"https://colab.research.google.com/assets/colab-badge.svg\" alt=\"Open In Colab\"/></a>"
      ]
    },
    {
      "cell_type": "code",
      "execution_count": 8,
      "metadata": {
        "id": "oA2r8LaYC-qD"
      },
      "outputs": [],
      "source": [
        "import numpy as np"
      ]
    },
    {
      "cell_type": "code",
      "source": [
        "# array 1d\n",
        "arr = np.array([1,2,3,4,5])\n",
        "print(arr)\n",
        "\n",
        "perkalian = arr * 2\n",
        "print(perkalian)"
      ],
      "metadata": {
        "colab": {
          "base_uri": "https://localhost:8080/"
        },
        "id": "V8rSGnJrDLB5",
        "outputId": "4b03a7cd-3196-4ab7-f053-b50d08d3da50"
      },
      "execution_count": 9,
      "outputs": [
        {
          "output_type": "stream",
          "name": "stdout",
          "text": [
            "[1 2 3 4 5]\n",
            "[ 2  4  6  8 10]\n"
          ]
        }
      ]
    },
    {
      "cell_type": "code",
      "source": [
        "# array 2d\n",
        "arr2 = np.array([[1,2,3,4],[1,2,3,4]])\n",
        "print(arr2)"
      ],
      "metadata": {
        "colab": {
          "base_uri": "https://localhost:8080/"
        },
        "id": "kZWC-8y_LjgV",
        "outputId": "72c2fa20-efb7-4837-bc69-0703e6cac9db"
      },
      "execution_count": 10,
      "outputs": [
        {
          "output_type": "stream",
          "name": "stdout",
          "text": [
            "[[1 2 3 4]\n",
            " [1 2 3 4]]\n"
          ]
        }
      ]
    },
    {
      "cell_type": "code",
      "source": [
        "# vektor\n",
        "vek = np.array([[1],[2],[3]])\n",
        "print(vek)\n",
        "\n",
        "met = np.array([[1,2,3],[1,2,3]])\n",
        "\n",
        "\n",
        "print(met)\n",
        "# tes = vek + met\n",
        "# print(tes)"
      ],
      "metadata": {
        "colab": {
          "base_uri": "https://localhost:8080/"
        },
        "id": "1IRXYCA8Lmir",
        "outputId": "4ab38069-8ef7-42a6-cc45-219a731ab2f9"
      },
      "execution_count": 11,
      "outputs": [
        {
          "output_type": "stream",
          "name": "stdout",
          "text": [
            "[[1]\n",
            " [2]\n",
            " [3]]\n",
            "[[1 2 3]\n",
            " [1 2 3]]\n"
          ]
        }
      ]
    },
    {
      "cell_type": "code",
      "source": [
        "# matrix\n",
        "\n",
        "met1 = np.matrix([[1,2,4],[2,1,3]])\n",
        "met2 = np.matrix([[1],[2],[3]])\n",
        "\n",
        "ar1 = np.array([[1,2,4],[2,1,3]])\n",
        "ar2 = np.array([1,2,3])\n",
        "\n",
        "print(met1)\n",
        "print(met2)\n",
        "print(ar1)\n",
        "print(ar2)\n",
        "\n",
        "perkalian = met1 * met2\n",
        "print(perkalian)\n",
        "\n",
        "perkalian_array = ar1.dot(ar2)\n",
        "print(perkalian_array)"
      ],
      "metadata": {
        "colab": {
          "base_uri": "https://localhost:8080/"
        },
        "id": "cl1iq3RnL7Zi",
        "outputId": "99490669-1bcd-43ae-ccc1-4bbfa519cbed"
      },
      "execution_count": 12,
      "outputs": [
        {
          "output_type": "stream",
          "name": "stdout",
          "text": [
            "[[1 2 4]\n",
            " [2 1 3]]\n",
            "[[1]\n",
            " [2]\n",
            " [3]]\n",
            "[[1 2 4]\n",
            " [2 1 3]]\n",
            "[1 2 3]\n",
            "[[17]\n",
            " [13]]\n",
            "[17 13]\n"
          ]
        }
      ]
    },
    {
      "cell_type": "code",
      "source": [
        "import numpy as np\n",
        "\n",
        "# 1D Array\n",
        "arr1 = np.array([1, 2, 3, 4, 5])\n",
        "print(\"1D:\", arr1)\n",
        "print(\"Shape:\", arr1.shape)\n",
        "\n",
        "# 2D Array\n",
        "arr2 = np.array([[1, 2, 3], [4, 5, 6]])\n",
        "print(\"\\n2D:\\n\", arr2)\n",
        "print(\"Shape:\", arr2.shape)\n",
        "\n",
        "# 3D Array\n",
        "arr3 = np.array([[[1, 2, 3], [4, 5, 6]],[[7, 8, 9], [10, 11, 12]]])\n",
        "print(\"\\n3D:\\n\", arr3)\n",
        "print(\"Shape:\", arr3.shape)\n"
      ],
      "metadata": {
        "colab": {
          "base_uri": "https://localhost:8080/"
        },
        "id": "OOtR5jSQwiEl",
        "outputId": "ee332f13-9dfc-4e29-cd8e-b945264aa74f"
      },
      "execution_count": 13,
      "outputs": [
        {
          "output_type": "stream",
          "name": "stdout",
          "text": [
            "1D: [1 2 3 4 5]\n",
            "Shape: (5,)\n",
            "\n",
            "2D:\n",
            " [[1 2 3]\n",
            " [4 5 6]]\n",
            "Shape: (2, 3)\n",
            "\n",
            "3D:\n",
            " [[[ 1  2  3]\n",
            "  [ 4  5  6]]\n",
            "\n",
            " [[ 7  8  9]\n",
            "  [10 11 12]]]\n",
            "Shape: (2, 2, 3)\n"
          ]
        }
      ]
    },
    {
      "cell_type": "code",
      "source": [
        "s = np.array([[\"a\",\"b\",\"c\",\"d\"],\n",
        "              [\"e\",\"f\",\"g\",\"h\"]])\n",
        "\n",
        "print(s)\n",
        "print(s[0][1])"
      ],
      "metadata": {
        "colab": {
          "base_uri": "https://localhost:8080/"
        },
        "id": "OTlVDIcA6WQd",
        "outputId": "0ce81417-9eff-4d9e-f6a3-8c198ef7f19a"
      },
      "execution_count": 14,
      "outputs": [
        {
          "output_type": "stream",
          "name": "stdout",
          "text": [
            "[['a' 'b' 'c' 'd']\n",
            " ['e' 'f' 'g' 'h']]\n",
            "b\n"
          ]
        }
      ]
    }
  ]
}