{
  "nbformat": 4,
  "nbformat_minor": 0,
  "metadata": {
    "colab": {
      "provenance": [],
      "authorship_tag": "ABX9TyNIbRhIevfzwsvcDVXxnV7H",
      "include_colab_link": true
    },
    "kernelspec": {
      "name": "python3",
      "display_name": "Python 3"
    },
    "language_info": {
      "name": "python"
    }
  },
  "cells": [
    {
      "cell_type": "markdown",
      "metadata": {
        "id": "view-in-github",
        "colab_type": "text"
      },
      "source": [
        "<a href=\"https://colab.research.google.com/github/YusufAbdurraahman/learning-numpy/blob/main/learning_numpy_2.ipynb\" target=\"_parent\"><img src=\"https://colab.research.google.com/assets/colab-badge.svg\" alt=\"Open In Colab\"/></a>"
      ]
    },
    {
      "cell_type": "code",
      "execution_count": 1,
      "metadata": {
        "id": "tw7hCDXZaYtM"
      },
      "outputs": [],
      "source": [
        "import numpy as np"
      ]
    },
    {
      "cell_type": "code",
      "source": [
        "array = np.array([[1,2,3],\n",
        "                  [4,5,6],\n",
        "                  [7,8,9],\n",
        "                  [8,9,10]])\n",
        "\n",
        "# mengakses baris ke 0 dan sebelum ke 4 dan longkap 2\n",
        "print(array[0:4:2])\n",
        "\n",
        "# ambil satu kolom tertentu dari beberapa baris\n",
        "print(array[1:,2])\n",
        "print(array[:2])\n",
        "\n",
        "# ambil satu baris utuh\n",
        "print(array[1:2])\n",
        "\n",
        "# ambil satu angka\n",
        "print(array[0][1])"
      ],
      "metadata": {
        "colab": {
          "base_uri": "https://localhost:8080/"
        },
        "id": "RG1jXZJQachX",
        "outputId": "eb1ed53f-ac79-4879-8e82-805ae73ddcf3"
      },
      "execution_count": 2,
      "outputs": [
        {
          "output_type": "stream",
          "name": "stdout",
          "text": [
            "[[1 2 3]\n",
            " [7 8 9]]\n",
            "[ 6  9 10]\n",
            "[[1 2 3]\n",
            " [4 5 6]]\n",
            "[[4 5 6]]\n",
            "2\n"
          ]
        }
      ]
    },
    {
      "cell_type": "code",
      "source": [
        "arr1 = np.array([[1,2,3,4],[1,2,3,4]])\n",
        "arr2 = np.array([1,2,3,4])\n",
        "\n",
        "kali = arr1 @ arr2\n",
        "print(kali)"
      ],
      "metadata": {
        "colab": {
          "base_uri": "https://localhost:8080/"
        },
        "id": "nxLslCx9b2qw",
        "outputId": "fa89265c-31fe-4ad6-e2e0-45e4df11686c"
      },
      "execution_count": 3,
      "outputs": [
        {
          "output_type": "stream",
          "name": "stdout",
          "text": [
            "[30 30]\n"
          ]
        }
      ]
    }
  ]
}